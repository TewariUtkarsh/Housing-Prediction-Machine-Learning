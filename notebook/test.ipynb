{
 "cells": [
  {
   "cell_type": "code",
   "execution_count": 2,
   "metadata": {},
   "outputs": [],
   "source": [
    "# pip install ipykernel\n",
    "# namedtuple: immutable so info won't be altered and each element has a name associated\n",
    "# so no need to remember the index and what info is there\n",
    "\n",
    "from collections import namedtuple"
   ]
  },
  {
   "cell_type": "markdown",
   "metadata": {},
   "source": [
    "### Defining Data Ingestion Configuration"
   ]
  },
  {
   "cell_type": "code",
   "execution_count": 5,
   "metadata": {},
   "outputs": [],
   "source": [
    "# Input to Data Ingestion Component ie source of i/p data\n",
    "\"\"\"\n",
    "dataset_download_url: download location/url from where I will download data\n",
    "tgz_download_dir    : Location (Folder) where I will download the compress file\n",
    "raw_data_dir        : Location (Folder) where I will extract the file\n",
    "ingested_train_dir  : Train dataset folder\n",
    "ingested_test_dir   : Test dataste folder\n",
    "\"\"\"\n",
    "\n",
    "DataIngestionConfig = namedtuple(\"DataIngestionConfig\", \n",
    "[\"dataset_download_url\", \"tgz_download_dir\", \"raw_data_dir\", \"ingested_train_dir\", \"ingested_test_dir\"])\n",
    "\n"
   ]
  },
  {
   "cell_type": "code",
   "execution_count": 16,
   "metadata": {},
   "outputs": [
    {
     "data": {
      "text/plain": [
       "'down'"
      ]
     },
     "execution_count": 16,
     "metadata": {},
     "output_type": "execute_result"
    }
   ],
   "source": [
    "data_ingestion_config = DataIngestionConfig(\n",
    "    dataset_download_url=\"down\",\n",
    "    tgz_download_dir=\"tgz\",\n",
    "    raw_data_dir=\"raw\",\n",
    "    ingested_train_dir=\"train\",\n",
    "    ingested_test_dir=\"test\"\n",
    "    )\n",
    "\n",
    "data_ingestion_config.dataset_download_url\n"
   ]
  },
  {
   "cell_type": "markdown",
   "metadata": {},
   "source": [
    "### DataValidationConfig"
   ]
  },
  {
   "cell_type": "code",
   "execution_count": 21,
   "metadata": {},
   "outputs": [],
   "source": [
    "# For column level config we need the MDM file which has info about column details\n",
    "DataValidationConfig = namedtuple(\"DataValidationConfig\",\n",
    "[\"schema_file_path\"])\n"
   ]
  },
  {
   "cell_type": "markdown",
   "metadata": {},
   "source": [
    "### DataTransformationConfig"
   ]
  },
  {
   "cell_type": "code",
   "execution_count": 22,
   "metadata": {},
   "outputs": [],
   "source": [
    "\"\"\"\n",
    "transformed_train_dir: dir to store our transformed input train data(file)\n",
    "preprocessed_object_file_path: location to store our transformation pickle object which we will use in prediction pipeline\n",
    "add_bedroom_per_room: column that we will create in our dataset, later stage\n",
    "\"\"\"\n",
    "DataTransformationConfig = namedtuple(\"DataTransformationConfig\",\n",
    "[\"add_bedroom_per_room\", \"transformed_train_dir\", \"transformed_test_dir\", \"preprocessed_object_file_path\"])"
   ]
  },
  {
   "cell_type": "markdown",
   "metadata": {},
   "source": [
    "### ModelTrainerConfig"
   ]
  },
  {
   "cell_type": "code",
   "execution_count": 23,
   "metadata": {},
   "outputs": [],
   "source": [
    "\"\"\"\n",
    "train_model_file_path: after training model, this specfy the path to store pickle object of our model\n",
    "base_accuracy: expected or threshold accuracy to accept or reject our model\n",
    "\"\"\"\n",
    "\n",
    "ModelTrainerConfig = namedtuple(\"ModelTrainerConfig\",\n",
    "[\"train_model_file_path\", \"base_accuracy\"])"
   ]
  },
  {
   "cell_type": "markdown",
   "metadata": {},
   "source": [
    "### ModelEvaluationConfig"
   ]
  },
  {
   "cell_type": "code",
   "execution_count": 24,
   "metadata": {},
   "outputs": [],
   "source": [
    "\"\"\"\n",
    "model_evaluation_file_path: file in which we store all the essential info about the model running in production\n",
    "time_stamp: \n",
    "\"\"\"\n",
    "\n",
    "ModelEvaluationConfig = namedtuple(\"ModelEvaluationConfig\",\n",
    "[\"model_evaluation_file_path\", \"time_stamp\"])"
   ]
  },
  {
   "cell_type": "markdown",
   "metadata": {},
   "source": [
    "### ModelPusherConfig"
   ]
  },
  {
   "cell_type": "code",
   "execution_count": null,
   "metadata": {},
   "outputs": [],
   "source": [
    "ModelPusherConfig = namedtuple(\"ModelPusherConfig\",\n",
    "[\"export_dir_path\"])"
   ]
  }
 ],
 "metadata": {
  "kernelspec": {
   "display_name": "Python 3.6.9 ('ml-project-github-actions')",
   "language": "python",
   "name": "python3"
  },
  "language_info": {
   "codemirror_mode": {
    "name": "ipython",
    "version": 3
   },
   "file_extension": ".py",
   "mimetype": "text/x-python",
   "name": "python",
   "nbconvert_exporter": "python",
   "pygments_lexer": "ipython3",
   "version": "3.6.9"
  },
  "orig_nbformat": 4,
  "vscode": {
   "interpreter": {
    "hash": "8a5dcd4b1baa94f3c1a822f35db35bcd05a568216a46fd243ba5e031bfafeca2"
   }
  }
 },
 "nbformat": 4,
 "nbformat_minor": 2
}
